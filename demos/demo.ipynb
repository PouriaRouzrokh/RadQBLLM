{
 "cells": [
  {
   "cell_type": "markdown",
   "metadata": {},
   "source": [
    "# Demo\n",
    "In this notebook, we will demonstrate the functionalities of the project."
   ]
  },
  {
   "cell_type": "code",
   "execution_count": 94,
   "metadata": {},
   "outputs": [
    {
     "name": "stdout",
     "output_type": "stream",
     "text": [
      "The autoreload extension is already loaded. To reload it, use:\n",
      "  %reload_ext autoreload\n"
     ]
    }
   ],
   "source": [
    "%load_ext autoreload\n",
    "%reload_ext autoreload\n",
    "%autoreload 2\n",
    "\n",
    "import os\n",
    "import sys\n",
    "\n",
    "sys.path.append('..')\n",
    "import configs\n",
    "from radqbllm.rag import prepare_pipeline"
   ]
  },
  {
   "cell_type": "code",
   "execution_count": 98,
   "metadata": {},
   "outputs": [
    {
     "name": "stdout",
     "output_type": "stream",
     "text": [
      "The pipeline is ready using the GPT-4 model.\n"
     ]
    }
   ],
   "source": [
    "toy_data_dir = configs.TOY_DATA_DIR\n",
    "all_pdf_texts = [os.path.join(toy_data_dir, file) \\\n",
    "    for file in os.listdir(toy_data_dir) if file.endswith(\".pdf\")]\n",
    "qa_chain = prepare_pipeline(all_pdf_texts)\n"
   ]
  },
  {
   "cell_type": "code",
   "execution_count": 99,
   "metadata": {},
   "outputs": [
    {
     "name": "stdout",
     "output_type": "stream",
     "text": [
      "```\n",
      "Question 1: A 59-year-old woman presents with a history of progressive headache and confusion. An MRI of the brain reveals a heterogeneously enhancing, necrotic mass in the left parietal lobe. The mass shows a mixture of facilitated and restricted diffusion, elevated cerebral blood flow, and depression of NAA and creatine peaks. Which of the following is the most likely diagnosis?\n",
      "A) Metastatic brain tumor\n",
      "B) Primary CNS lymphoma\n",
      "C) Glioblastoma multiforme\n",
      "D) Meningioma\n",
      "\n",
      "Answer: C) Glioblastoma multiforme\n",
      "\n",
      "Source: Figure 2. Left parietal glioblastoma multiforme (WHO grade IV) in a 59-year-old woman. (a)Axial postcontrast T1-weighted MR image demonstrates a heterogeneously enhancing, necrotic mass. (b)Axial diffusion-weighted image shows a mixture of facilitated and restricted diffusion (a similar appearance was observed on the axial ADC maps, not shown here). (c)Axial arterial spin-labeled generated cerebral blood flow map shows elevated cerebral blood flow compared with that in contralateral normal brain tissue. (d)Single-voxel short-echo MR proton spectrum of the lesion shows depression of the NAA (at 2.02 ppm) and creatine (Cr) (at 3.0 ppm) peaks, elevation of the lactate (Lac) and/or lipid peak (at 1.33 ppm), and elevation of the choline(Cho) peak (at 3.2 ppm).\n",
      "\n",
      "Step by step reasoning on why this is the correct answer: The MRI findings described in the question stem are consistent with the findings seen in glioblastoma multiforme, as described in the provided context. The heterogeneously enhancing, necrotic mass, the mixture of facilitated and restricted diffusion, elevated cerebral blood flow, and the specific changes in the MR proton spectrum are all characteristic of glioblastoma multiforme.\n",
      "\n",
      "Question 2: An 8-year-old girl presents with a 4-6 week history of headache and double vision. An MRI of the brain reveals a tumor involving midline structures including the pons, cerebellum, midbrain, bilateral medial temporal lobes, posterior inferior frontal lobes, bilateral hypothalami, and thalami. The tumor shows essentially no enhancement, with an exophytic component in the prepontine/premedullary cistern showing avid nodular enhancement. Which of the following is the most likely diagnosis?\n",
      "A) Medulloblastoma\n",
      "B) Ependymoma\n",
      "C) Diffuse midline glioma\n",
      "D) Craniopharyngioma\n",
      "\n",
      "Answer: C) Diffuse midline glioma\n",
      "\n",
      "Source: Figure 9. Diffuse midline glioma that is histone H3 K27M mutant that was proven at genetic analysis in an 8-year-old girl who presented after 4–6 weeks of headache and double vision. (a–c)  Axial T2-weighted FLAIR MR images demonstrate the tumor, including at the level of the pons (a), where it surrounds vertebrobasilar vasculature. There is extensive involvement of midline structures. These include the pons and cerebellum (arrows in a); the midbrain, bilateral medial temporal lobes, posterior inferior frontal lobes, and bilateral hypothalami (b); and the thalami (arrows in c). (d) Sagittal gadolinium-enhanced T1-weighted MR image shows the intraparenchymal tumor with essentially no enhancement, although an exophytic component (arrow) in the prepontine/premedullary cistern shows avid nodular enhancement.\n",
      "\n",
      "Step by step reasoning on why this is the correct answer: The clinical presentation and MRI findings described in the question stem are consistent with the findings seen in diffuse midline glioma, as described in the provided context. The extensive involvement of midline structures and the lack of enhancement with the exception of an exophytic component are characteristic of diffuse midline glioma.\n",
      "```\n"
     ]
    }
   ],
   "source": [
    "user_question = \"\"\"\n",
    "Design two questions about the topic \"atypical presentations of glioma\", \n",
    "with the difficulty level of \"Bloom level analyzing\", \n",
    "and the format of \"Multiple clinical scenarios\". \n",
    "Your questions should be designed as clinical scenarios similar to USMLE questions.\n",
    "\"\"\"\n",
    "\n",
    "result = qa_chain({\n",
    "\"query\": user_question\n",
    "})\n",
    "\n",
    "print(result['result'])\n"
   ]
  }
 ],
 "metadata": {
  "kernelspec": {
   "display_name": "LLM",
   "language": "python",
   "name": "python3"
  },
  "language_info": {
   "codemirror_mode": {
    "name": "ipython",
    "version": 3
   },
   "file_extension": ".py",
   "mimetype": "text/x-python",
   "name": "python",
   "nbconvert_exporter": "python",
   "pygments_lexer": "ipython3",
   "version": "3.11.4"
  },
  "orig_nbformat": 4
 },
 "nbformat": 4,
 "nbformat_minor": 2
}

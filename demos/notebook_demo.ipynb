{
 "cells": [
  {
   "cell_type": "markdown",
   "metadata": {},
   "source": [
    "# Figure RAG Demo\n",
    "In this notebook, we will demonstrate the main functionalities of the project in a notebook environment. To work with the GUI application, please run the `main.py` file."
   ]
  },
  {
   "cell_type": "code",
   "execution_count": 1,
   "metadata": {},
   "outputs": [],
   "source": [
    "import os\n",
    "import sys\n",
    "\n",
    "sys.path.append(\"..\")\n",
    "from radqg.utils.rag_utils import prepare_pipeline\n",
    "import radqg.settings.configs as configs\n",
    "from radqg.utils.html_utils import retrieve_figures, retrieve_fulltexts\n",
    "from radqg.utils.langchain_utils import get_all_chunks"
   ]
  },
  {
   "cell_type": "markdown",
   "metadata": {},
   "source": [
    "### Extracting the figures and text from HTML files "
   ]
  },
  {
   "cell_type": "code",
   "execution_count": 2,
   "metadata": {},
   "outputs": [
    {
     "name": "stdout",
     "output_type": "stream",
     "text": [
      "Name of the articles: \n",
      "\n",
      "Internal Hernias in the Era of Multidetector CT_ Correlation of Imaging and Surgical Findings _ RadioGraphics.html\n",
      "Role of Multimodality Imaging in Gastroesophageal Reflux Disease and Its Complications, with Clinical and Pathologic Correlation _ RadioGraphics.html\n",
      "Murphy’s Law_ What Can Go Wrong in the Gallbladder_ Resident and Fellow Education Feature _ RadioGraphics.html\n",
      "Pearls and Pitfalls in Multimodality Imaging of Colonic Volvulus _ RadioGraphics.html\n",
      "CT Findings of Acute Small-Bowel Entities _ RadioGraphics.html\n"
     ]
    }
   ],
   "source": [
    "# Listing all the HTML files\n",
    "# Please download your desired articles from the RadioGraphics website as HTML files and\n",
    "# put them in the toy_data_dir folder. Do not change the names of the files and folders\n",
    "# when saving them from the website. Five sample articles are already provided.\n",
    "\n",
    "toy_data_dir = configs.TOY_HTML_DATA_DIR\n",
    "\n",
    "print(\"Name of the articles: \\n\")\n",
    "for file in os.listdir(toy_data_dir):\n",
    "    if file.endswith(\".html\"):\n",
    "        print(file)"
   ]
  },
  {
   "cell_type": "code",
   "execution_count": 3,
   "metadata": {},
   "outputs": [
    {
     "data": {
      "text/plain": [
       "[('/research/projects/m221279_Pouria/RadQG/data/html_articles/Internal Hernias in the Era of Multidetector CT_ Correlation of Imaging and Surgical Findings _ RadioGraphics_files/images_medium_rg.2016150113.fig1.gif',\n",
       "  ['Internal Hernias in the Era of Multidetector CT_ Correlation of Imaging and Surgical Findings _ RadioGraphics.html',\n",
       "   'Figure 1',\n",
       "   'Figure 1.Drawing shows the anatomic sites of internal hernias:1= paraduodenal hernia,2= small bowel mesentery–related hernia,3= greater omentum–related hernia,4= lesser sac hernia,5= transverse mesocolon–related hernia,6= pericecal hernia,7= sigmoid mesocolon–related hernia,8= falciform ligament hernia,9= pelvic internal hernia. (Roux-en-Y anastomosis–related hernia is not shown.)']),\n",
       " ('/research/projects/m221279_Pouria/RadQG/data/html_articles/Internal Hernias in the Era of Multidetector CT_ Correlation of Imaging and Surgical Findings _ RadioGraphics_files/images_medium_rg.2016150113.fig2a.gif',\n",
       "  ['Internal Hernias in the Era of Multidetector CT_ Correlation of Imaging and Surgical Findings _ RadioGraphics.html',\n",
       "   'Figure 2a',\n",
       "   'Figure 2a.Internal hernias associated with an abnormal opening in a mesentery or peritoneal ligament. Drawings show the transmesenteric or fenestra type(a), in which a defect arises through two peritoneal layers, and the intramesenteric or pouch type(b), in which a defect arises in only one peritoneal layer.']),\n",
       " ('/research/projects/m221279_Pouria/RadQG/data/html_articles/Internal Hernias in the Era of Multidetector CT_ Correlation of Imaging and Surgical Findings _ RadioGraphics_files/images_medium_rg.2016150113.fig2b.gif',\n",
       "  ['Internal Hernias in the Era of Multidetector CT_ Correlation of Imaging and Surgical Findings _ RadioGraphics.html',\n",
       "   'Figure 2b',\n",
       "   'Figure 2b.Internal hernias associated with an abnormal opening in a mesentery or peritoneal ligament. Drawings show the transmesenteric or fenestra type(a), in which a defect arises through two peritoneal layers, and the intramesenteric or pouch type(b), in which a defect arises in only one peritoneal layer.']),\n",
       " ('/research/projects/m221279_Pouria/RadQG/data/html_articles/Internal Hernias in the Era of Multidetector CT_ Correlation of Imaging and Surgical Findings _ RadioGraphics_files/images_medium_rg.2016150113.fig3a.gif',\n",
       "  ['Internal Hernias in the Era of Multidetector CT_ Correlation of Imaging and Surgical Findings _ RadioGraphics.html',\n",
       "   'Figure 3a',\n",
       "   'Figure 3a.Internal hernias that manifest with a saclike appearance. Drawings show an internal hernia into an unusual fossa or recess in the retroperitoneum(a)and an intramesenteric or pouch-type internal hernia(b).']),\n",
       " ('/research/projects/m221279_Pouria/RadQG/data/html_articles/Internal Hernias in the Era of Multidetector CT_ Correlation of Imaging and Surgical Findings _ RadioGraphics_files/images_medium_rg.2016150113.fig3b.gif',\n",
       "  ['Internal Hernias in the Era of Multidetector CT_ Correlation of Imaging and Surgical Findings _ RadioGraphics.html',\n",
       "   'Figure 3b',\n",
       "   'Figure 3b.Internal hernias that manifest with a saclike appearance. Drawings show an internal hernia into an unusual fossa or recess in the retroperitoneum(a)and an intramesenteric or pouch-type internal hernia(b).'])]"
      ]
     },
     "execution_count": 3,
     "metadata": {},
     "output_type": "execute_result"
    }
   ],
   "source": [
    "# Retrieve a dictionary of all article figures and their corresponding captions\n",
    "\n",
    "fig_dict = retrieve_figures(toy_data_dir)\n",
    "list(fig_dict.items())[:5]"
   ]
  },
  {
   "cell_type": "code",
   "execution_count": 4,
   "metadata": {},
   "outputs": [
    {
     "data": {
      "text/plain": [
       "'Internal Hernias in the Era of Multidetector CT: Correlation of Imaging and Surgical Findings Clinical diagnosis of internal hernias is challenging because of their nonspecific signs and symptoms. Many types of internal hernias have been defined: paraduodenal, small bowel mesentery–related, greater omentum–related, lesser sac, transverse mesocolon–related, pericecal, sigmoid mesocolon–related, falciform ligament, pelvic internal, and Roux-en-Y anastomosis–related. An internal hernia is a surgica'"
      ]
     },
     "execution_count": 4,
     "metadata": {},
     "output_type": "execute_result"
    }
   ],
   "source": [
    "# Retrieving the full text of all articles.\n",
    "\n",
    "text_dict = retrieve_fulltexts(toy_data_dir)\n",
    "list(text_dict.items())[0][-1][:500]"
   ]
  },
  {
   "cell_type": "markdown",
   "metadata": {},
   "source": [
    "### Finding the closest sections of the text to each figure caption using RAG"
   ]
  },
  {
   "cell_type": "code",
   "execution_count": 5,
   "metadata": {},
   "outputs": [
    {
     "name": "stdout",
     "output_type": "stream",
     "text": [
      "27\n",
      "45\n",
      "5\n",
      "3\n",
      "30\n"
     ]
    }
   ],
   "source": [
    "docs_dict = {}\n",
    "for key in text_dict.keys():\n",
    "    article_text = text_dict[key]\n",
    "    docs = get_all_chunks([article_text])\n",
    "    print(len(docs))\n",
    "    docs_dict[key] = docs"
   ]
  },
  {
   "cell_type": "code",
   "execution_count": null,
   "metadata": {},
   "outputs": [],
   "source": []
  }
 ],
 "metadata": {
  "kernelspec": {
   "display_name": "LLM",
   "language": "python",
   "name": "python3"
  },
  "language_info": {
   "codemirror_mode": {
    "name": "ipython",
    "version": 3
   },
   "file_extension": ".py",
   "mimetype": "text/x-python",
   "name": "python",
   "nbconvert_exporter": "python",
   "pygments_lexer": "ipython3",
   "version": "3.11.4"
  }
 },
 "nbformat": 4,
 "nbformat_minor": 2
}

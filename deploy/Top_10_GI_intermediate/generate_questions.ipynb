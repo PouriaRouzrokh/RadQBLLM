{
 "cells": [
  {
   "cell_type": "markdown",
   "metadata": {},
   "source": [
    "# GI Intermedite Top 10 Reading List\n",
    "In this notebook, we will use RadQG to generate 100 MCQ and 100 short-answer (ANKI) questions from the RadioGraphics GI Intermedite Top 10 Reading List. We will then save these into word documents for further editing and review."
   ]
  },
  {
   "cell_type": "code",
   "execution_count": 6,
   "metadata": {},
   "outputs": [
    {
     "name": "stdout",
     "output_type": "stream",
     "text": [
      "The autoreload extension is already loaded. To reload it, use:\n",
      "  %reload_ext autoreload\n"
     ]
    }
   ],
   "source": [
    "%load_ext autoreload\n",
    "%reload_ext autoreload\n",
    "%autoreload 2\n",
    "\n",
    "import datetime\n",
    "import os\n",
    "import pickle\n",
    "import sys\n",
    "from tqdm.notebook import tqdm\n",
    "\n",
    "sys.path.append(\"../../\")\n",
    "import matplotlib.pyplot as plt\n",
    "import skimage.io as io\n",
    "import radqg.configs as configs\n",
    "from radqg.generator import Generator\n",
    "from radqg.llm.openai import embed_fn as openai_embed_fn\n",
    "from radqg.llm.openai import qa as openai_qa"
   ]
  },
  {
   "cell_type": "markdown",
   "metadata": {},
   "source": [
    "### Extracting the figures and text from HTML files \n",
    "\n",
    "Please download your desired articles from the RadioGraphics website as HTML files and put them in the toy_data_dir folder. Do not change the names of the files and folders when saving them from the website. Five sample articles are already provided."
   ]
  },
  {
   "cell_type": "code",
   "execution_count": 8,
   "metadata": {},
   "outputs": [
    {
     "name": "stdout",
     "output_type": "stream",
     "text": [
      "Name of the articles: \n",
      "\n",
      "MR Imaging Evaluation of Perianal Fistulas_ Spectrum of Imaging Features _ RadioGraphics.html\n",
      "Gallbladder Carcinoma and Its Differential Diagnosis at MRI_ What Radiologists Should Know _ RadioGraphics.html\n",
      "Imaging Features of Premalignant Biliary Lesions and Predisposing Conditions with Pathologic Correlation _ RadioGraphics.html\n",
      "CT and PET in Stomach Cancer_ Preoperative Staging and Monitoring of Response to Therapy _ RadioGraphics.html\n",
      "Chronic Pancreatitis or Pancreatic Tumor_ A Problem-solving Approach _ RadioGraphics.html\n",
      "Gastrointestinal Bleeding at CT Angiography and CT Enterography_ Imaging Atlas and Glossary of Terms _ RadioGraphics.html\n",
      "Imaging and Surgical Management of Anorectal Vaginal Fistulas _ RadioGraphics.html\n",
      "Pancreatic Neuroendocrine Neoplasms_ 2020 Update on Pathologic and Imaging Findings and Classification _ RadioGraphics.html\n",
      "Heterotopic Pancreas_ Histopathologic Features, Imaging Findings, and Complications _ RadioGraphics.html\n",
      "Liver Metastases_ Correlation between Imaging Features and Pathomolecular Environments _ RadioGraphics.html\n"
     ]
    }
   ],
   "source": [
    "# Listing all the HTML files\n",
    "\n",
    "DATA_DIR = \"/research/projects/m221279_Pouria/RadQG/data/html_articles/Top_10_GI_R4\"\n",
    "\n",
    "print(\"Name of the articles: \\n\")\n",
    "for file in os.listdir(DATA_DIR):\n",
    "    if file.endswith(\".html\"):\n",
    "        print(file)"
   ]
  },
  {
   "cell_type": "markdown",
   "metadata": {},
   "source": [
    "### Create a QA generator\n",
    "\n",
    "Creating the QA generator is the first step in the pipeline. In addition to the path to the directory containing the HTML files, we need to specify an embedding function (e.g., from OpenAI), and the chunk_size and chunk_overlap values that should be used for splitting the articles into chunks. The latter two could be changed in the notebook or in the `config.py` file.\n",
    "\n",
    "The next step is to setup the generator. This step will return all the article names, paths to figures detected for the articles, their captions, and also a Python sampler for selecting random figures as the source for question generation. The user can specify a word or phrase as the interested `topic` when setting up the question bank for the generator. If provided, then the QA generator will be more inclined to select figures as the source for question genenration that have haptions related to the topic. Otherwise, the generator will pick completely random figures for question generation."
   ]
  },
  {
   "cell_type": "code",
   "execution_count": 9,
   "metadata": {},
   "outputs": [
    {
     "ename": "OperationalError",
     "evalue": "attempt to write a readonly database",
     "output_type": "error",
     "traceback": [
      "\u001b[0;31m---------------------------------------------------------------------------\u001b[0m",
      "\u001b[0;31mOperationalError\u001b[0m                          Traceback (most recent call last)",
      "\u001b[1;32m/research/projects/m221279_Pouria/RadQG/deploy/Top_10_GI_intermediate/generate_questions.ipynb Cell 6\u001b[0m line \u001b[0;36m3\n\u001b[1;32m      <a href='vscode-notebook-cell://ssh-remote%2Bosail-gpu01/research/projects/m221279_Pouria/RadQG/deploy/Top_10_GI_intermediate/generate_questions.ipynb#W5sdnNjb2RlLXJlbW90ZQ%3D%3D?line=0'>1</a>\u001b[0m \u001b[39m# Setting up the generator\u001b[39;00m\n\u001b[0;32m----> <a href='vscode-notebook-cell://ssh-remote%2Bosail-gpu01/research/projects/m221279_Pouria/RadQG/deploy/Top_10_GI_intermediate/generate_questions.ipynb#W5sdnNjb2RlLXJlbW90ZQ%3D%3D?line=2'>3</a>\u001b[0m generator \u001b[39m=\u001b[39m Generator(\n\u001b[1;32m      <a href='vscode-notebook-cell://ssh-remote%2Bosail-gpu01/research/projects/m221279_Pouria/RadQG/deploy/Top_10_GI_intermediate/generate_questions.ipynb#W5sdnNjb2RlLXJlbW90ZQ%3D%3D?line=3'>4</a>\u001b[0m     data_dir\u001b[39m=\u001b[39;49mDATA_DIR,\n\u001b[1;32m      <a href='vscode-notebook-cell://ssh-remote%2Bosail-gpu01/research/projects/m221279_Pouria/RadQG/deploy/Top_10_GI_intermediate/generate_questions.ipynb#W5sdnNjb2RlLXJlbW90ZQ%3D%3D?line=4'>5</a>\u001b[0m     embed_fn\u001b[39m=\u001b[39;49mopenai_embed_fn,\n\u001b[1;32m      <a href='vscode-notebook-cell://ssh-remote%2Bosail-gpu01/research/projects/m221279_Pouria/RadQG/deploy/Top_10_GI_intermediate/generate_questions.ipynb#W5sdnNjb2RlLXJlbW90ZQ%3D%3D?line=5'>6</a>\u001b[0m     chunk_size\u001b[39m=\u001b[39;49mconfigs\u001b[39m.\u001b[39;49mCHUNK_SIZE,\n\u001b[1;32m      <a href='vscode-notebook-cell://ssh-remote%2Bosail-gpu01/research/projects/m221279_Pouria/RadQG/deploy/Top_10_GI_intermediate/generate_questions.ipynb#W5sdnNjb2RlLXJlbW90ZQ%3D%3D?line=6'>7</a>\u001b[0m     chunk_overlap\u001b[39m=\u001b[39;49mconfigs\u001b[39m.\u001b[39;49mCHUNK_OVERLAP,\n\u001b[1;32m      <a href='vscode-notebook-cell://ssh-remote%2Bosail-gpu01/research/projects/m221279_Pouria/RadQG/deploy/Top_10_GI_intermediate/generate_questions.ipynb#W5sdnNjb2RlLXJlbW90ZQ%3D%3D?line=7'>8</a>\u001b[0m )\n\u001b[1;32m     <a href='vscode-notebook-cell://ssh-remote%2Bosail-gpu01/research/projects/m221279_Pouria/RadQG/deploy/Top_10_GI_intermediate/generate_questions.ipynb#W5sdnNjb2RlLXJlbW90ZQ%3D%3D?line=9'>10</a>\u001b[0m topic \u001b[39m=\u001b[39m \u001b[39mNone\u001b[39;00m\n\u001b[1;32m     <a href='vscode-notebook-cell://ssh-remote%2Bosail-gpu01/research/projects/m221279_Pouria/RadQG/deploy/Top_10_GI_intermediate/generate_questions.ipynb#W5sdnNjb2RlLXJlbW90ZQ%3D%3D?line=10'>11</a>\u001b[0m article_names, figpaths, captions, sampler \u001b[39m=\u001b[39m generator\u001b[39m.\u001b[39msetup_qbank(topic)\n",
      "File \u001b[0;32m/research/projects/m221279_Pouria/RadQG/deploy/Top_10_GI_intermediate/../../radqg/generator.py:46\u001b[0m, in \u001b[0;36mGenerator.__init__\u001b[0;34m(self, data_dir, embed_fn, chunk_size, chunk_overlap, num_retrieved_chunks, collection_name, selected_articles, radiologist_model, educationist_model)\u001b[0m\n\u001b[1;32m     44\u001b[0m \u001b[39mself\u001b[39m\u001b[39m.\u001b[39mselected_articles \u001b[39m=\u001b[39m selected_articles\n\u001b[1;32m     45\u001b[0m \u001b[39mself\u001b[39m\u001b[39m.\u001b[39mgenerator_memory \u001b[39m=\u001b[39m \u001b[39mdict\u001b[39m()\n\u001b[0;32m---> 46\u001b[0m \u001b[39mself\u001b[39m\u001b[39m.\u001b[39mcollection \u001b[39m=\u001b[39m \u001b[39mself\u001b[39;49m\u001b[39m.\u001b[39;49mcreate_collection()\n\u001b[1;32m     47\u001b[0m \u001b[39mself\u001b[39m\u001b[39m.\u001b[39mradiologist_model \u001b[39m=\u001b[39m radiologist_model\n\u001b[1;32m     48\u001b[0m \u001b[39mself\u001b[39m\u001b[39m.\u001b[39meducationist_model \u001b[39m=\u001b[39m educationist_model\n",
      "File \u001b[0;32m/research/projects/m221279_Pouria/RadQG/deploy/Top_10_GI_intermediate/../../radqg/generator.py:76\u001b[0m, in \u001b[0;36mGenerator.create_collection\u001b[0;34m(self)\u001b[0m\n\u001b[1;32m     74\u001b[0m     collection_name \u001b[39m=\u001b[39m \u001b[39mself\u001b[39m\u001b[39m.\u001b[39mcollection_name\n\u001b[1;32m     75\u001b[0m client \u001b[39m=\u001b[39m chromadb\u001b[39m.\u001b[39mPersistentClient(path\u001b[39m=\u001b[39mconfigs\u001b[39m.\u001b[39mVECTOR_DB_DIR)\n\u001b[0;32m---> 76\u001b[0m collection \u001b[39m=\u001b[39m client\u001b[39m.\u001b[39;49mget_or_create_collection(\n\u001b[1;32m     77\u001b[0m     name\u001b[39m=\u001b[39;49mcollection_name,\n\u001b[1;32m     78\u001b[0m     metadata\u001b[39m=\u001b[39;49m{\u001b[39m\"\u001b[39;49m\u001b[39mhnsw:space\u001b[39;49m\u001b[39m\"\u001b[39;49m: \u001b[39m\"\u001b[39;49m\u001b[39mcosine\u001b[39;49m\u001b[39m\"\u001b[39;49m},\n\u001b[1;32m     79\u001b[0m     embedding_function\u001b[39m=\u001b[39;49m\u001b[39mself\u001b[39;49m\u001b[39m.\u001b[39;49membed_fn,\n\u001b[1;32m     80\u001b[0m )\n\u001b[1;32m     82\u001b[0m \u001b[39m# Adding chunked articles' text to the collection\u001b[39;00m\n\u001b[1;32m     83\u001b[0m text_splitter \u001b[39m=\u001b[39m RecursiveCharacterTextSplitter(\n\u001b[1;32m     84\u001b[0m     chunk_size\u001b[39m=\u001b[39m\u001b[39mself\u001b[39m\u001b[39m.\u001b[39mchunk_size, chunk_overlap\u001b[39m=\u001b[39m\u001b[39mself\u001b[39m\u001b[39m.\u001b[39mchunk_overlap\n\u001b[1;32m     85\u001b[0m )\n",
      "File \u001b[0;32m/research/projects/m221279_Pouria/0_Miniconda3/envs/LLM/lib/python3.11/site-packages/chromadb/api/client.py:208\u001b[0m, in \u001b[0;36mClient.get_or_create_collection\u001b[0;34m(self, name, metadata, embedding_function)\u001b[0m\n\u001b[1;32m    201\u001b[0m \u001b[39m@override\u001b[39m\n\u001b[1;32m    202\u001b[0m \u001b[39mdef\u001b[39;00m \u001b[39mget_or_create_collection\u001b[39m(\n\u001b[1;32m    203\u001b[0m     \u001b[39mself\u001b[39m,\n\u001b[0;32m   (...)\u001b[0m\n\u001b[1;32m    206\u001b[0m     embedding_function: Optional[EmbeddingFunction] \u001b[39m=\u001b[39m ef\u001b[39m.\u001b[39mDefaultEmbeddingFunction(),\n\u001b[1;32m    207\u001b[0m ) \u001b[39m-\u001b[39m\u001b[39m>\u001b[39m Collection:\n\u001b[0;32m--> 208\u001b[0m     \u001b[39mreturn\u001b[39;00m \u001b[39mself\u001b[39;49m\u001b[39m.\u001b[39;49m_server\u001b[39m.\u001b[39;49mget_or_create_collection(\n\u001b[1;32m    209\u001b[0m         name\u001b[39m=\u001b[39;49mname,\n\u001b[1;32m    210\u001b[0m         metadata\u001b[39m=\u001b[39;49mmetadata,\n\u001b[1;32m    211\u001b[0m         embedding_function\u001b[39m=\u001b[39;49membedding_function,\n\u001b[1;32m    212\u001b[0m         tenant\u001b[39m=\u001b[39;49m\u001b[39mself\u001b[39;49m\u001b[39m.\u001b[39;49mtenant,\n\u001b[1;32m    213\u001b[0m         database\u001b[39m=\u001b[39;49m\u001b[39mself\u001b[39;49m\u001b[39m.\u001b[39;49mdatabase,\n\u001b[1;32m    214\u001b[0m     )\n",
      "File \u001b[0;32m/research/projects/m221279_Pouria/0_Miniconda3/envs/LLM/lib/python3.11/site-packages/chromadb/telemetry/opentelemetry/__init__.py:127\u001b[0m, in \u001b[0;36mtrace_method.<locals>.decorator.<locals>.wrapper\u001b[0;34m(*args, **kwargs)\u001b[0m\n\u001b[1;32m    125\u001b[0m \u001b[39mglobal\u001b[39;00m tracer, granularity\n\u001b[1;32m    126\u001b[0m \u001b[39mif\u001b[39;00m trace_granularity \u001b[39m<\u001b[39m granularity:\n\u001b[0;32m--> 127\u001b[0m     \u001b[39mreturn\u001b[39;00m f(\u001b[39m*\u001b[39;49margs, \u001b[39m*\u001b[39;49m\u001b[39m*\u001b[39;49mkwargs)\n\u001b[1;32m    128\u001b[0m \u001b[39mif\u001b[39;00m \u001b[39mnot\u001b[39;00m tracer:\n\u001b[1;32m    129\u001b[0m     \u001b[39mreturn\u001b[39;00m f(\u001b[39m*\u001b[39margs, \u001b[39m*\u001b[39m\u001b[39m*\u001b[39mkwargs)\n",
      "File \u001b[0;32m/research/projects/m221279_Pouria/0_Miniconda3/envs/LLM/lib/python3.11/site-packages/chromadb/api/segment.py:201\u001b[0m, in \u001b[0;36mSegmentAPI.get_or_create_collection\u001b[0;34m(self, name, metadata, embedding_function, tenant, database)\u001b[0m\n\u001b[1;32m    189\u001b[0m \u001b[39m@trace_method\u001b[39m(\n\u001b[1;32m    190\u001b[0m     \u001b[39m\"\u001b[39m\u001b[39mSegmentAPI.get_or_create_collection\u001b[39m\u001b[39m\"\u001b[39m, OpenTelemetryGranularity\u001b[39m.\u001b[39mOPERATION\n\u001b[1;32m    191\u001b[0m )\n\u001b[0;32m   (...)\u001b[0m\n\u001b[1;32m    199\u001b[0m     database: \u001b[39mstr\u001b[39m \u001b[39m=\u001b[39m DEFAULT_DATABASE,\n\u001b[1;32m    200\u001b[0m ) \u001b[39m-\u001b[39m\u001b[39m>\u001b[39m Collection:\n\u001b[0;32m--> 201\u001b[0m     \u001b[39mreturn\u001b[39;00m \u001b[39mself\u001b[39;49m\u001b[39m.\u001b[39;49mcreate_collection(  \u001b[39m# type: ignore\u001b[39;49;00m\n\u001b[1;32m    202\u001b[0m         name\u001b[39m=\u001b[39;49mname,\n\u001b[1;32m    203\u001b[0m         metadata\u001b[39m=\u001b[39;49mmetadata,\n\u001b[1;32m    204\u001b[0m         embedding_function\u001b[39m=\u001b[39;49membedding_function,\n\u001b[1;32m    205\u001b[0m         get_or_create\u001b[39m=\u001b[39;49m\u001b[39mTrue\u001b[39;49;00m,\n\u001b[1;32m    206\u001b[0m         tenant\u001b[39m=\u001b[39;49mtenant,\n\u001b[1;32m    207\u001b[0m         database\u001b[39m=\u001b[39;49mdatabase,\n\u001b[1;32m    208\u001b[0m     )\n",
      "File \u001b[0;32m/research/projects/m221279_Pouria/0_Miniconda3/envs/LLM/lib/python3.11/site-packages/chromadb/telemetry/opentelemetry/__init__.py:127\u001b[0m, in \u001b[0;36mtrace_method.<locals>.decorator.<locals>.wrapper\u001b[0;34m(*args, **kwargs)\u001b[0m\n\u001b[1;32m    125\u001b[0m \u001b[39mglobal\u001b[39;00m tracer, granularity\n\u001b[1;32m    126\u001b[0m \u001b[39mif\u001b[39;00m trace_granularity \u001b[39m<\u001b[39m granularity:\n\u001b[0;32m--> 127\u001b[0m     \u001b[39mreturn\u001b[39;00m f(\u001b[39m*\u001b[39;49margs, \u001b[39m*\u001b[39;49m\u001b[39m*\u001b[39;49mkwargs)\n\u001b[1;32m    128\u001b[0m \u001b[39mif\u001b[39;00m \u001b[39mnot\u001b[39;00m tracer:\n\u001b[1;32m    129\u001b[0m     \u001b[39mreturn\u001b[39;00m f(\u001b[39m*\u001b[39margs, \u001b[39m*\u001b[39m\u001b[39m*\u001b[39mkwargs)\n",
      "File \u001b[0;32m/research/projects/m221279_Pouria/0_Miniconda3/envs/LLM/lib/python3.11/site-packages/chromadb/api/segment.py:157\u001b[0m, in \u001b[0;36mSegmentAPI.create_collection\u001b[0;34m(self, name, metadata, embedding_function, get_or_create, tenant, database)\u001b[0m\n\u001b[1;32m    153\u001b[0m check_index_name(name)\n\u001b[1;32m    155\u001b[0m \u001b[39mid\u001b[39m \u001b[39m=\u001b[39m uuid4()\n\u001b[0;32m--> 157\u001b[0m coll, created \u001b[39m=\u001b[39m \u001b[39mself\u001b[39;49m\u001b[39m.\u001b[39;49m_sysdb\u001b[39m.\u001b[39;49mcreate_collection(\n\u001b[1;32m    158\u001b[0m     \u001b[39mid\u001b[39;49m\u001b[39m=\u001b[39;49m\u001b[39mid\u001b[39;49m,\n\u001b[1;32m    159\u001b[0m     name\u001b[39m=\u001b[39;49mname,\n\u001b[1;32m    160\u001b[0m     metadata\u001b[39m=\u001b[39;49mmetadata,\n\u001b[1;32m    161\u001b[0m     dimension\u001b[39m=\u001b[39;49m\u001b[39mNone\u001b[39;49;00m,\n\u001b[1;32m    162\u001b[0m     get_or_create\u001b[39m=\u001b[39;49mget_or_create,\n\u001b[1;32m    163\u001b[0m     tenant\u001b[39m=\u001b[39;49mtenant,\n\u001b[1;32m    164\u001b[0m     database\u001b[39m=\u001b[39;49mdatabase,\n\u001b[1;32m    165\u001b[0m )\n\u001b[1;32m    167\u001b[0m \u001b[39mif\u001b[39;00m created:\n\u001b[1;32m    168\u001b[0m     segments \u001b[39m=\u001b[39m \u001b[39mself\u001b[39m\u001b[39m.\u001b[39m_manager\u001b[39m.\u001b[39mcreate_segments(coll)\n",
      "File \u001b[0;32m/research/projects/m221279_Pouria/0_Miniconda3/envs/LLM/lib/python3.11/site-packages/chromadb/telemetry/opentelemetry/__init__.py:127\u001b[0m, in \u001b[0;36mtrace_method.<locals>.decorator.<locals>.wrapper\u001b[0;34m(*args, **kwargs)\u001b[0m\n\u001b[1;32m    125\u001b[0m \u001b[39mglobal\u001b[39;00m tracer, granularity\n\u001b[1;32m    126\u001b[0m \u001b[39mif\u001b[39;00m trace_granularity \u001b[39m<\u001b[39m granularity:\n\u001b[0;32m--> 127\u001b[0m     \u001b[39mreturn\u001b[39;00m f(\u001b[39m*\u001b[39;49margs, \u001b[39m*\u001b[39;49m\u001b[39m*\u001b[39;49mkwargs)\n\u001b[1;32m    128\u001b[0m \u001b[39mif\u001b[39;00m \u001b[39mnot\u001b[39;00m tracer:\n\u001b[1;32m    129\u001b[0m     \u001b[39mreturn\u001b[39;00m f(\u001b[39m*\u001b[39margs, \u001b[39m*\u001b[39m\u001b[39m*\u001b[39mkwargs)\n",
      "File \u001b[0;32m/research/projects/m221279_Pouria/0_Miniconda3/envs/LLM/lib/python3.11/site-packages/chromadb/db/mixins/sysdb.py:261\u001b[0m, in \u001b[0;36mSqlSysDB.create_collection\u001b[0;34m(self, id, name, metadata, dimension, get_or_create, tenant, database)\u001b[0m\n\u001b[1;32m    259\u001b[0m sql, params \u001b[39m=\u001b[39m get_sql(insert_collection, \u001b[39mself\u001b[39m\u001b[39m.\u001b[39mparameter_format())\n\u001b[1;32m    260\u001b[0m \u001b[39mtry\u001b[39;00m:\n\u001b[0;32m--> 261\u001b[0m     cur\u001b[39m.\u001b[39;49mexecute(sql, params)\n\u001b[1;32m    262\u001b[0m \u001b[39mexcept\u001b[39;00m \u001b[39mself\u001b[39m\u001b[39m.\u001b[39munique_constraint_error() \u001b[39mas\u001b[39;00m e:\n\u001b[1;32m    263\u001b[0m     \u001b[39mraise\u001b[39;00m UniqueConstraintError(\n\u001b[1;32m    264\u001b[0m         \u001b[39mf\u001b[39m\u001b[39m\"\u001b[39m\u001b[39mCollection \u001b[39m\u001b[39m{\u001b[39;00mcollection[\u001b[39m'\u001b[39m\u001b[39mid\u001b[39m\u001b[39m'\u001b[39m]\u001b[39m}\u001b[39;00m\u001b[39m already exists\u001b[39m\u001b[39m\"\u001b[39m\n\u001b[1;32m    265\u001b[0m     ) \u001b[39mfrom\u001b[39;00m \u001b[39me\u001b[39;00m\n",
      "\u001b[0;31mOperationalError\u001b[0m: attempt to write a readonly database"
     ]
    }
   ],
   "source": [
    "# Setting up the generator\n",
    "\n",
    "generator = Generator(\n",
    "    data_dir=DATA_DIR,\n",
    "    embed_fn=openai_embed_fn,\n",
    "    chunk_size=configs.CHUNK_SIZE,\n",
    "    chunk_overlap=configs.CHUNK_OVERLAP,\n",
    ")\n",
    "\n",
    "topic = None\n",
    "article_names, figpaths, captions, sampler = generator.setup_qbank(topic)"
   ]
  },
  {
   "cell_type": "markdown",
   "metadata": {},
   "source": [
    "### Question Generation Pipeline"
   ]
  },
  {
   "cell_type": "code",
   "execution_count": 4,
   "metadata": {},
   "outputs": [
    {
     "data": {
      "application/vnd.jupyter.widget-view+json": {
       "model_id": "947546b089354015b6c57fe29b0ce023",
       "version_major": 2,
       "version_minor": 0
      },
      "text/plain": [
       "  0%|          | 0/50 [00:00<?, ?it/s]"
      ]
     },
     "metadata": {},
     "output_type": "display_data"
    }
   ],
   "source": [
    "# Sampling a certain number of figures\n",
    "\n",
    "target_question_number = 50\n",
    "selected_article_names = []\n",
    "selected_figpaths = []\n",
    "selected_captions = []\n",
    "\n",
    "for i in tqdm(range(target_question_number)):\n",
    "    article_name, figpath, caption = generator.select_figure(\n",
    "        article_names, figpaths, captions, sampler, reset_memory=False\n",
    "    )\n",
    "    selected_article_names.append(article_name)\n",
    "    selected_figpaths.append(figpath)\n",
    "    selected_captions.append(caption)\n",
    "\n",
    "assert (\n",
    "    len(selected_article_names)\n",
    "    == len(selected_figpaths)\n",
    "    == len(selected_captions)\n",
    "    == target_question_number\n",
    ")\n",
    "assert len(set(selected_figpaths)) == target_question_number"
   ]
  },
  {
   "cell_type": "markdown",
   "metadata": {},
   "source": [
    "#### Generate Questions from Figures"
   ]
  },
  {
   "cell_type": "code",
   "execution_count": null,
   "metadata": {},
   "outputs": [],
   "source": [
    "generated_mcqs = []\n",
    "generated_saqs = []\n",
    "\n",
    "for i, (article_name, figpath, caption) in enumerate(\n",
    "    zip(selected_article_names, selected_figpaths, selected_captions)\n",
    "):\n",
    "    # Multiple-choice questions\n",
    "\n",
    "    print(\"\\n\", \"*\" * 50, f\"Generation {i} - MCQ logs:\", \"*\" * 50, \"\\n\")\n",
    "    print(f\"Figure: {figpath}\")\n",
    "\n",
    "    time0 = datetime.datetime.now()\n",
    "    mcq_qa_json, mcq_context, mcq_price, mcq_conversation = generator.generate_qa(\n",
    "        qa_fn=openai_qa,\n",
    "        article_name=article_name,\n",
    "        figpath=figpath,\n",
    "        caption=caption,\n",
    "        type_of_question=\"MCQ\",\n",
    "        complete_return=True,\n",
    "    )\n",
    "    mcq_time = datetime.datetime.now() - time0\n",
    "    mcq_seconds = mcq_time.total_seconds()\n",
    "    generated_mcqs.append([mcq_qa_json, mcq_price, mcq_seconds, mcq_conversation])\n",
    "    print(f\"MCQ: seconds: {mcq_seconds} - price: {mcq_price}\")\n",
    "\n",
    "    # Short-answer questions\n",
    "\n",
    "    print(\"\\n\", \"*\" * 50, f\"Generation {i} - SAQ logs:\", \"*\" * 50, \"\\n\")\n",
    "    print(f\"Figure: {figpath}\")\n",
    "\n",
    "    saq_qa_json, saq_context, saq_price, saq_conversation = generator.generate_qa(\n",
    "        qa_fn=openai_qa,\n",
    "        article_name=article_name,\n",
    "        figpath=figpath,\n",
    "        caption=caption,\n",
    "        type_of_question=\"Short-Answer\",\n",
    "        complete_return=True,\n",
    "    )\n",
    "    saq_time = datetime.datetime.now() - time0 - mcq_time\n",
    "    saq_seconds = saq_time.total_seconds()\n",
    "    generated_saqs.append([saq_qa_json, saq_price, saq_seconds, saq_conversation])\n",
    "    print(f\"SAQ: seconds: {saq_seconds} - price: {saq_price}\")"
   ]
  },
  {
   "cell_type": "code",
   "execution_count": null,
   "metadata": {},
   "outputs": [],
   "source": [
    "# Saving the generated questions\n",
    "\n",
    "with open(\"generated_mcqs2.pkl\", \"wb\") as f:\n",
    "    pickle.dump(generated_mcqs, f)\n",
    "\n",
    "with open(\"generated_saqs2.pkl\", \"wb\") as f:\n",
    "    pickle.dump(generated_saqs, f)\n",
    "\n",
    "with open(\"selected_article_names.pkl\", \"wb\") as f:\n",
    "    pickle.dump(selected_article_names, f)\n",
    "\n",
    "with open(\"selected_figpaths.pkl\", \"wb\") as f:\n",
    "    pickle.dump(selected_figpaths, f)\n",
    "\n",
    "with open(\"selected_captions.pkl\", \"wb\") as f:\n",
    "    pickle.dump(selected_captions, f)"
   ]
  },
  {
   "cell_type": "markdown",
   "metadata": {},
   "source": [
    "### Building the word files"
   ]
  },
  {
   "cell_type": "code",
   "execution_count": null,
   "metadata": {},
   "outputs": [],
   "source": [
    "with open(\"generated_mcqs.pkl\", \"rb\") as f:\n",
    "    generated_mcqs = pickle.load(f)\n",
    "\n",
    "with open(\"generated_saqs.pkl\", \"rb\") as f:\n",
    "    generated_saqs = pickle.load(f)\n",
    "\n",
    "with open(\"selected_article_names.pkl\", \"rb\") as f:\n",
    "    selected_article_names = pickle.load(f)\n",
    "\n",
    "with open(\"selected_figpaths.pkl\", \"rb\") as f:\n",
    "    selected_figpaths = pickle.load(f)\n",
    "\n",
    "with open(\"selected_captions.pkl\", \"rb\") as f:\n",
    "    selected_captions = pickle.load(f)"
   ]
  },
  {
   "cell_type": "code",
   "execution_count": null,
   "metadata": {},
   "outputs": [],
   "source": [
    "all_mcq_questions = [x[0] for x in generated_mcqs]\n",
    "all_mcq_prices = [x[1] for x in generated_mcqs]\n",
    "all_mcq_seconds = [x[2] for x in generated_mcqs]"
   ]
  },
  {
   "cell_type": "code",
   "execution_count": null,
   "metadata": {},
   "outputs": [
    {
     "name": "stdout",
     "output_type": "stream",
     "text": [
      "An example:\n",
      "Imaging of Drug-induced Complications in the Gastrointestinal System _ RadioGraphics.html\n",
      "/research/projects/m221279_Pouria/RadQG/data/html_articles/Top_10_GI_intermediate/Imaging of Drug-induced Complications in the Gastrointestinal System _ RadioGraphics_files/images_medium_rg.2016150132.fig14a.gif\n",
      "Figure 14a.HCAin a 24-year-old woman taking oral contraceptive pills who presented for imaging follow up. Axial arterial phase(a), portal venous phase(b), and 1-hour delayed phase(c)MR images obtained with hepatocyte-specific gadolinium contrast agent show a liver lesion in the right lobe (arrow) with early arterial enhancement that persists in the portal venous phase. The late persistent enhancement seen at the periphery incis due to a ductular reaction (proliferation of ductular structures from a large duct obstruction). Pathologic analysis of a surgical tissue sample showedHCA, inflammatory subtype.\n",
      "{'question': 'A 72-year-old woman presents with diffuse abdominal pain and hypotension. Based on the CT images provided, which of the following is the most likely diagnosis?', 'options': {'A': 'Acute arterial embolism', 'B': 'Nonocclusive mesenteric ischemia', 'C': 'Small-bowel obstruction', 'D': 'Ischemic compromise in closed-loop small-bowel obstruction', 'E': 'Thromboembolic occlusion of the SMA'}, 'answer': 'A. Acute arterial embolism. The imaging findings are indicative of acute mesenteric ischemia with small-bowel infarction. This is most likely due to an acute arterial embolism.'}\n",
      "0.29367\n",
      "49.94864\n"
     ]
    }
   ],
   "source": [
    "print(\"An example:\")\n",
    "print(selected_article_names[0])\n",
    "print(selected_figpaths[0])\n",
    "print(selected_captions[0])\n",
    "print(all_mcq_questions[0])\n",
    "print(all_mcq_prices[0])\n",
    "print(all_mcq_seconds[0])"
   ]
  },
  {
   "cell_type": "code",
   "execution_count": null,
   "metadata": {},
   "outputs": [],
   "source": []
  }
 ],
 "metadata": {
  "kernelspec": {
   "display_name": "LLM",
   "language": "python",
   "name": "python3"
  },
  "language_info": {
   "codemirror_mode": {
    "name": "ipython",
    "version": 3
   },
   "file_extension": ".py",
   "mimetype": "text/x-python",
   "name": "python",
   "nbconvert_exporter": "python",
   "pygments_lexer": "ipython3",
   "version": "3.11.4"
  }
 },
 "nbformat": 4,
 "nbformat_minor": 2
}

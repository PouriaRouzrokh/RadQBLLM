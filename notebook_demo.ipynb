{
 "cells": [
  {
   "cell_type": "markdown",
   "metadata": {},
   "source": [
    "# Demo\n",
    "In this notebook, we will demonstrate the functionalities of the project."
   ]
  },
  {
   "cell_type": "code",
   "execution_count": 1,
   "metadata": {},
   "outputs": [],
   "source": [
    "%load_ext autoreload\n",
    "%reload_ext autoreload\n",
    "%autoreload 2\n",
    "\n",
    "import os\n",
    "import sys\n",
    "\n",
    "sys.path.append('..')\n",
    "import configs\n",
    "from radqbllm.rag import prepare_pipeline"
   ]
  },
  {
   "cell_type": "code",
   "execution_count": 4,
   "metadata": {},
   "outputs": [
    {
     "name": "stdout",
     "output_type": "stream",
     "text": [
      "The pipeline is ready using the GPT-4 model.\n"
     ]
    }
   ],
   "source": [
    "toy_data_dir = configs.TOY_DATA_DIR\n",
    "all_pdf_texts = [os.path.join(toy_data_dir, file) \\\n",
    "    for file in os.listdir(toy_data_dir) if file.endswith(\".pdf\")]\n",
    "qa_chain = prepare_pipeline(\n",
    "    all_pdf_texts, \n",
    "    prompt_keywords={\n",
    "        \"format\": \"MCQ\",\n",
    "        \"difficulty_level\": \"very difficult clinical scenarios\",\n",
    "        \"criteria\": \"Your questions should be very difficult clinical scenarios, include 4-6 choices, but still be answerable based on the provided context. However, the exact answer to the question should not be in the provided excerpts, and rather, someone should reason based on those excerpts and find the answer.\" \n",
    "})"
   ]
  },
  {
   "cell_type": "code",
   "execution_count": 5,
   "metadata": {},
   "outputs": [
    {
     "name": "stdout",
     "output_type": "stream",
     "text": [
      "```\n",
      "Question: A 55-year-old patient presents with a large, heterogeneous mass in the cerebral hemisphere exhibiting necrosis, hemorrhage, and enhancement on gadolinium-enhanced MR imaging. The patient has a short clinical course of approximately 3 months. What is the most likely diagnosis?\n",
      "A) Oligodendroglioma\n",
      "B) Anaplastic oligoastrocytoma\n",
      "C) Glioblastoma\n",
      "D) Desmoplastic infantile ganglioglioma\n",
      "E) Anaplastic ependymoma\n",
      "\n",
      "Answer: C) Glioblastoma\n",
      "\n",
      "Source: \"Most glioblastomas arise without evidence of a lower-grade precursor lesion after a short clinical course of approximately 3 months. The mean age of patients who present with primary glioblastoma is 55 years. Glioblastomas may also arise from an existing astrocytoma that has undergone progression to a higher grade. Conventional gadolinium-enhanced MR imaging is the standard technique for the evaluation of glioblastoma and typically demonstrates a large, heterogeneous mass in the cerebral hemisphere exhibiting necrosis, hemorrhage, and enhancement.\"\n",
      "\n",
      "Step by step reasoning on why this is the correct answer: The patient's age, the short clinical course, and the imaging findings are all consistent with the description of glioblastoma in the provided context. The other options (Oligodendroglioma, Anaplastic oligoastrocytoma, Desmoplastic infantile ganglioglioma, Anaplastic ependymoma) do not match with the patient's presentation and imaging findings.\n",
      "```\n"
     ]
    }
   ],
   "source": [
    "question_title = \"typical presentations of glioma\"\n",
    "\n",
    "result = qa_chain({\n",
    "\"query\": question_title\n",
    "})\n",
    "\n",
    "print(result['result'])"
   ]
  }
 ],
 "metadata": {
  "kernelspec": {
   "display_name": "LLM",
   "language": "python",
   "name": "python3"
  },
  "language_info": {
   "codemirror_mode": {
    "name": "ipython",
    "version": 3
   },
   "file_extension": ".py",
   "mimetype": "text/x-python",
   "name": "python",
   "nbconvert_exporter": "python",
   "pygments_lexer": "ipython3",
   "version": "3.11.4"
  },
  "orig_nbformat": 4
 },
 "nbformat": 4,
 "nbformat_minor": 2
}
